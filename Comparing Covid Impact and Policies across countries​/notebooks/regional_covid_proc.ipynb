{
 "cells": [
  {
   "cell_type": "code",
   "execution_count": 1,
   "metadata": {},
   "outputs": [],
   "source": [
    "import pandas as pd\n",
    "import re\n",
    "import numpy as np\n",
    "from multiprocessing import  Pool"
   ]
  },
  {
   "cell_type": "code",
   "execution_count": 2,
   "metadata": {},
   "outputs": [
    {
     "name": "stderr",
     "output_type": "stream",
     "text": [
      "/home/caligine/.conda/envs/eecs_731/lib/python3.8/site-packages/IPython/core/interactiveshell.py:3145: DtypeWarning: Columns (5,11) have mixed types.Specify dtype option on import or set low_memory=False.\n",
      "  has_raised = await self.run_ast_nodes(code_ast.body, cell_name,\n"
     ]
    }
   ],
   "source": [
    "cvd_regional = pd.read_csv(\"../data/raw/covid/covid_geographical.csv\")"
   ]
  },
  {
   "cell_type": "code",
   "execution_count": 3,
   "metadata": {},
   "outputs": [
    {
     "data": {
      "text/plain": [
       "'location_geom'"
      ]
     },
     "execution_count": 3,
     "metadata": {},
     "output_type": "execute_result"
    }
   ],
   "source": [
    "cvd_regional.columns[5]"
   ]
  },
  {
   "cell_type": "code",
   "execution_count": 4,
   "metadata": {},
   "outputs": [
    {
     "data": {
      "text/plain": [
       "'admin2'"
      ]
     },
     "execution_count": 4,
     "metadata": {},
     "output_type": "execute_result"
    }
   ],
   "source": [
    "cvd_regional.columns[11]"
   ]
  },
  {
   "cell_type": "code",
   "execution_count": 5,
   "metadata": {},
   "outputs": [
    {
     "data": {
      "text/plain": [
       "Index(['province_state', 'country_region', 'date', 'latitude', 'longitude',\n",
       "       'location_geom', 'confirmed', 'deaths', 'recovered', 'active', 'fips',\n",
       "       'admin2', 'combined_key'],\n",
       "      dtype='object')"
      ]
     },
     "execution_count": 5,
     "metadata": {},
     "output_type": "execute_result"
    }
   ],
   "source": [
    "cvd_regional.columns"
   ]
  },
  {
   "cell_type": "code",
   "execution_count": 6,
   "metadata": {},
   "outputs": [
    {
     "data": {
      "text/plain": [
       "array(['New York', 'Washington', 'California', 'New Jersey', 'Illinois',\n",
       "       'Florida', 'Louisiana', 'Michigan', 'Massachusetts', 'Georgia',\n",
       "       'Colorado', 'Texas', 'Pennsylvania', 'Connecticut', 'Wisconsin',\n",
       "       'Tennessee', 'North Carolina', 'Ohio', 'Maryland', 'Virginia',\n",
       "       'Nevada', 'Minnesota', 'Oregon', 'South Carolina', 'Utah',\n",
       "       'Alabama', 'Arkansas', 'Indiana', 'Maine', 'Mississippi',\n",
       "       'Diamond Princess', 'Arizona', 'Iowa', 'New Hampshire', 'Oklahoma',\n",
       "       'Rhode Island', 'District of Columbia', 'Kentucky', 'New Mexico',\n",
       "       'Kansas', 'Missouri', 'Delaware', 'Nebraska', 'Grand Princess',\n",
       "       'Vermont', 'North Dakota', 'Wyoming', 'Hawaii', 'Guam', 'Idaho',\n",
       "       'Montana', 'South Dakota', 'Alaska', 'Puerto Rico',\n",
       "       'Virgin Islands', 'United States Virgin Islands', 'West Virginia',\n",
       "       'US', 'Unassigned Location (From Diamond Princess)',\n",
       "       'King County, WA', 'Santa Clara, CA', 'Westchester County, NY',\n",
       "       'Snohomish County, WA', 'Los Angeles, CA', 'Cook County, IL',\n",
       "       'Orange County, CA', 'Fulton County, GA', 'Grafton County, NH',\n",
       "       'Hillsborough, FL', 'Placer County, CA', 'Providence, RI',\n",
       "       'Sacramento County, CA', 'San Benito, CA', 'San Diego County, CA',\n",
       "       'San Mateo, CA', 'Washington County, OR', ' Norfolk County, MA',\n",
       "       'Berkeley, CA', 'Boston, MA', 'Contra Costa County, CA',\n",
       "       'Humboldt County, CA', 'Madison, WI', 'Maricopa County, AZ',\n",
       "       'New York City, NY', 'San Antonio, TX', 'Sarasota, FL',\n",
       "       'Sonoma County, CA', 'Tempe, AZ', 'Umatilla, OR',\n",
       "       'Wake County, NC', 'Lackland, TX (From Diamond Princess)',\n",
       "       'Omaha, NE (From Diamond Princess)',\n",
       "       'Travis, CA (From Diamond Princess)', 'Santa Clara County, CA',\n",
       "       'Grand Princess Cruise Ship', 'New York County, NY',\n",
       "       'San Francisco County, CA', 'Harris County, TX',\n",
       "       'Unassigned Location, WA', 'Bergen County, NJ',\n",
       "       'Nassau County, NY', 'Douglas County, CO', 'Fort Bend County, TX',\n",
       "       'Montgomery County, MD', 'Providence County, RI',\n",
       "       'Suffolk County, MA', 'Alameda County, CA', 'Broward County, FL',\n",
       "       'Denver County, CO', 'Fairfield County, CT', 'Floyd County, GA',\n",
       "       'Lee County, FL', 'Pinal County, AZ', 'Rockland County, NY',\n",
       "       'Saratoga County, NY', 'Summit County, CO',\n",
       "       'Charleston County, SC', 'Chatham County, NC', 'Clark County, NV',\n",
       "       'Clark County, WA', 'Cobb County, GA', 'Davis County, UT',\n",
       "       'Delaware County, PA', 'Douglas County, NE', 'El Paso County, CO',\n",
       "       'Fayette County, KY', 'Grant County, WA', 'Honolulu County, HI',\n",
       "       'Jackson County, OR ', 'Jefferson County, WA',\n",
       "       'Kershaw County, SC', 'Klamath County, OR', 'Madera County, CA',\n",
       "       'Marion County, IN', 'Middlesex County, MA', 'Pierce County, WA',\n",
       "       'Plymouth County, MA', 'Ramsey County, MN',\n",
       "       'Santa Cruz County, CA', 'Santa Rosa County, FL',\n",
       "       'Tulsa County, OK', 'Washoe County, NV', 'Wayne County, PA',\n",
       "       'Williamson County, TN', 'Yolo County, CA',\n",
       "       'Montgomery County, TX', 'Portland, OR', 'Orange, CA',\n",
       "       'Norwell County, MA', 'Virgin Islands, U.S.', 'Norfolk County, MA',\n",
       "       'Montgomery County, PA', 'Johnson County, IA',\n",
       "       'Fairfax County, VA', 'Harrison County, KY',\n",
       "       'Hendricks County, IN', 'Manatee County, FL', 'Washington, D.C.',\n",
       "       'Bennington County, VT', 'Berkshire County, MA',\n",
       "       'Carver County, MN', 'Charlotte County, FL', 'Cherokee County, GA',\n",
       "       'Collin County, TX', 'Davidson County, TN', 'Douglas County, OR',\n",
       "       'Fresno County, CA', 'Harford County, MD', 'Hudson County, NJ',\n",
       "       'Jefferson County, KY', 'Jefferson Parish, LA',\n",
       "       'Johnson County, KS', 'Kittitas County, WA', 'Marion County, OR',\n",
       "       'Okaloosa County, FL', 'Polk County, GA', 'Riverside County, CA',\n",
       "       'Rockingham County, NH', 'Shasta County, CA', 'Shelby County, TN',\n",
       "       'Spartanburg County, SC', 'Spokane County, WA',\n",
       "       'St. Louis County, MO', 'Suffolk County, NY', 'Ulster County, NY',\n",
       "       'Unknown Location, MA', 'Volusia County, FL', 'Queens County, NY',\n",
       "       'Seattle, WA', 'Chicago, IL', 'Unassigned Location, VT',\n",
       "       'Recovered', 'Northern Mariana Islands', 'Wuhan Evacuee',\n",
       "       'American Samoa', 'Chicago', 'Ashland, NE', 'Travis, CA',\n",
       "       'Lackland, TX'], dtype=object)"
      ]
     },
     "execution_count": 6,
     "metadata": {},
     "output_type": "execute_result"
    }
   ],
   "source": [
    "cvd_regional.loc[cvd_regional.country_region=='US'].province_state.unique()"
   ]
  },
  {
   "cell_type": "code",
   "execution_count": null,
   "metadata": {},
   "outputs": [],
   "source": [
    "us = cvd_regional.loc[cvd_regional.country_region=='US']"
   ]
  },
  {
   "cell_type": "code",
   "execution_count": 175,
   "metadata": {},
   "outputs": [],
   "source": [
    "us_state_abbrev = {\n",
    "    'Alabama': 'AL',\n",
    "    'Alaska': 'AK',\n",
    "    'American Samoa': 'AS',\n",
    "    'Arizona': 'AZ',\n",
    "    'Arkansas': 'AR',\n",
    "    'California': 'CA',\n",
    "    'Colorado': 'CO',\n",
    "    'Connecticut': 'CT',\n",
    "    'Delaware': 'DE',\n",
    "    'District of Columbia': 'DC',\n",
    "    'Florida': 'FL',\n",
    "    'Georgia': 'GA',\n",
    "    'Guam': 'GU',\n",
    "    'Hawaii': 'HI',\n",
    "    'Idaho': 'ID',\n",
    "    'Illinois': 'IL',\n",
    "    'Indiana': 'IN',\n",
    "    'Iowa': 'IA',\n",
    "    'Kansas': 'KS',\n",
    "    'Kentucky': 'KY',\n",
    "    'Louisiana': 'LA',\n",
    "    'Maine': 'ME',\n",
    "    'Maryland': 'MD',\n",
    "    'Massachusetts': 'MA',\n",
    "    'Michigan': 'MI',\n",
    "    'Minnesota': 'MN',\n",
    "    'Mississippi': 'MS',\n",
    "    'Missouri': 'MO',\n",
    "    'Montana': 'MT',\n",
    "    'Nebraska': 'NE',\n",
    "    'Nevada': 'NV',\n",
    "    'New Hampshire': 'NH',\n",
    "    'New Jersey': 'NJ',\n",
    "    'New Mexico': 'NM',\n",
    "    'New York': 'NY',\n",
    "    'North Carolina': 'NC',\n",
    "    'North Dakota': 'ND',\n",
    "    'Northern Mariana Islands':'MP',\n",
    "    'Ohio': 'OH',\n",
    "    'Oklahoma': 'OK',\n",
    "    'Oregon': 'OR',\n",
    "    'Pennsylvania': 'PA',\n",
    "    'Puerto Rico': 'PR',\n",
    "    'Rhode Island': 'RI',\n",
    "    'South Carolina': 'SC',\n",
    "    'South Dakota': 'SD',\n",
    "    'Tennessee': 'TN',\n",
    "    'Texas': 'TX',\n",
    "    'Utah': 'UT',\n",
    "    'Vermont': 'VT',\n",
    "    'Virgin Islands': 'VI',\n",
    "    'Virginia': 'VA',\n",
    "    'Washington': 'WA',\n",
    "    'West Virginia': 'WV',\n",
    "    'Wisconsin': 'WI',\n",
    "    'Wyoming': 'WY'\n",
    "}"
   ]
  },
  {
   "cell_type": "code",
   "execution_count": 170,
   "metadata": {},
   "outputs": [],
   "source": [
    "reg_re = re.compile(r\"(((?P<cnt>[a-zA-Z-]+)\\s(County|Parish),)|(?P<loc>[a-zA-Z-]+),)?\\s(?P<st>[A-Z]{2})(?P<dp> \\(From ?(Diamond|Grand) ?Princess\\))?\",)"
   ]
  },
  {
   "cell_type": "code",
   "execution_count": 186,
   "metadata": {},
   "outputs": [],
   "source": [
    "def us_xform(df):\n",
    "    c = pd.DataFrame()\n",
    "    \n",
    "    for k, v in df.iteritems():\n",
    "        m = reg_re.match(v)\n",
    "        s = pd.Series(name=k, dtype='object')\n",
    "        s['cruise_ship'] = False\n",
    "        s['city'] = None\n",
    "        s['county'] = None\n",
    "        if v in us_state_abbrev:\n",
    "            s['state'] = us_state_abbrev[v]\n",
    "        else:\n",
    "            s['state'] = None\n",
    "            \n",
    "        if m:\n",
    "            dp = m.group('dp') if m.group('dp') else None\n",
    "            cnt = m.group('cnt') if m.group('cnt') else None\n",
    "            state = m.group('st') if m.group('st') else None\n",
    "            loc = m.group('loc') if m.group('loc') else None\n",
    "            \n",
    "            if dp:\n",
    "                s['cruise_ship'] = True\n",
    "\n",
    "            if cnt:\n",
    "                s['county'] = cnt\n",
    "            elif loc and not (loc == 'Unassigned Location'):\n",
    "                s['city'] = loc\n",
    "\n",
    "            if state and not (state=='Unassigned Location'):\n",
    "                s['state'] = state\n",
    "        c = c.append(s)\n",
    "    return c"
   ]
  },
  {
   "cell_type": "code",
   "execution_count": 187,
   "metadata": {},
   "outputs": [],
   "source": [
    "pool = Pool(16)\n",
    "sp = np.array_split(us.province_state, 16)\n",
    "sp = pool.map(us_xform, sp)\n",
    "sp = pd.concat(sp)\n",
    "pool.close()\n",
    "pool.join()"
   ]
  },
  {
   "cell_type": "code",
   "execution_count": 192,
   "metadata": {},
   "outputs": [],
   "source": [
    "s = us.merge(sp, left_index=True, right_index=True)"
   ]
  },
  {
   "cell_type": "code",
   "execution_count": 196,
   "metadata": {},
   "outputs": [],
   "source": [
    "s = s[['date', 'confirmed', 'deaths', 'recovered', 'city', 'county', 'cruise_ship', 'state']]"
   ]
  },
  {
   "cell_type": "code",
   "execution_count": 197,
   "metadata": {},
   "outputs": [],
   "source": [
    "s.to_csv(\"../data/processed/covid/us_regional_covid.csv\")"
   ]
  },
  {
   "cell_type": "code",
   "execution_count": null,
   "metadata": {},
   "outputs": [],
   "source": []
  }
 ],
 "metadata": {
  "kernelspec": {
   "display_name": "Python 3",
   "language": "python",
   "name": "python3"
  },
  "language_info": {
   "codemirror_mode": {
    "name": "ipython",
    "version": 3
   },
   "file_extension": ".py",
   "mimetype": "text/x-python",
   "name": "python",
   "nbconvert_exporter": "python",
   "pygments_lexer": "ipython3",
   "version": "3.8.6"
  },
  "varInspector": {
   "cols": {
    "lenName": 16,
    "lenType": 16,
    "lenVar": 40
   },
   "kernels_config": {
    "python": {
     "delete_cmd_postfix": "",
     "delete_cmd_prefix": "del ",
     "library": "var_list.py",
     "varRefreshCmd": "print(var_dic_list())"
    },
    "r": {
     "delete_cmd_postfix": ") ",
     "delete_cmd_prefix": "rm(",
     "library": "var_list.r",
     "varRefreshCmd": "cat(var_dic_list()) "
    }
   },
   "types_to_exclude": [
    "module",
    "function",
    "builtin_function_or_method",
    "instance",
    "_Feature"
   ],
   "window_display": false
  }
 },
 "nbformat": 4,
 "nbformat_minor": 4
}
